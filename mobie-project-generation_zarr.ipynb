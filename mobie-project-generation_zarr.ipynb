{
 "cells": [
  {
   "cell_type": "code",
   "execution_count": 7,
   "metadata": {},
   "outputs": [],
   "source": [
    "# general imports\n",
    "import os\n",
    "import imageio\n",
    "import mobie"
   ]
  },
  {
   "cell_type": "code",
   "execution_count": 8,
   "metadata": {},
   "outputs": [],
   "source": [
    "# location of the input data. \n",
    "# the example data used in this notebook is available via this link:\n",
    "input_data_path = \"data\"\n",
    "\n",
    "# the location of the mobie project that will be created\n",
    "# we recommend that the mobie project folders have the structure <PROECJT_ROOT_FOLDER/data>\n",
    "# the folder 'data' will contain the sub-folders for individual datasets\n",
    "mobie_project_folder = \"mobie-project-01/data\"\n",
    "\n",
    "# name of the dataset that will be created.\n",
    "# one project can contain multiple datasets\n",
    "dataset_name = \"LM-dataset\"\n",
    "dataset_folder = os.path.join(mobie_project_folder, dataset_name)\n",
    "\n",
    "# the platform and number of jobs used for computation.\n",
    "# choose 'local' to run computations on your machine.\n",
    "# for large data, it is also possible to run computation on a cluster;\n",
    "# for this purpose 'slurm' (for slurm cluster) and 'lsf' (for lsf cluster) are currently supported\n",
    "target = \"local\"\n",
    "max_jobs = 4"
   ]
  },
  {
   "cell_type": "markdown",
   "metadata": {},
   "source": [
    "## Initialize the dataset\n",
    "\n",
    "First, we need to initialize the dataset. This step includes generating the top-level project folder (if it's not present already), the subfolders for the new dataset and adding the \"default\" image for this dataset.\n",
    "All these steps are performed by the function `add_image`.\n",
    "\n",
    "This function accepts input image data in different formats. The input data is specified with the arguments\n",
    "`input_path`, which specifies the file path and `input_key`, which specifies the internal path or search patterns.\n",
    "- tif images (2d or 3d) - for this option set `input_key=''`\n",
    "- folder with image files - for this option `input_key` needs to be the glob pattern for the image files, e.g `input_key='*.tif'` to load all tif files\n",
    "- hdf5 file - `input_key` needs to be the internal file path\n",
    "- n5 or zarr file - `input_key` needs to be the internal file path\n",
    "\n",
    "The input files will be copied into the project folder in the [bdv.n5 dataformat](https://github.com/bigdataviewer/bigdataviewer-core/blob/master/BDV%20N5%20format.md) and an image pyramid will be created through consecutive downsampling.\n",
    "\n",
    "To efficiently process large files the inputs should be in hdf5, n5 or zarr format.\n",
    "Note that all inputs need to be either 2d or 3d images (volumes).\n",
    "Multi-channel images (volumes) should be seperated into their channels and then each channel added individually (see `Adding image data` below)."
   ]
  },
  {
   "cell_type": "code",
   "execution_count": 9,
   "metadata": {},
   "outputs": [
    {
     "ename": "ValueError",
     "evalue": "Expect same length of resolution as ndim, got: resolution=(454, 454), ndim=3",
     "output_type": "error",
     "traceback": [
      "\u001b[0;31m---------------------------------------------------------------------------\u001b[0m",
      "\u001b[0;31mValueError\u001b[0m                                Traceback (most recent call last)",
      "Cell \u001b[0;32mIn [9], line 28\u001b[0m\n\u001b[1;32m     25\u001b[0m chunks \u001b[38;5;241m=\u001b[39m (\u001b[38;5;241m64\u001b[39m, \u001b[38;5;241m64\u001b[39m)\n\u001b[1;32m     26\u001b[0m scale_factors \u001b[38;5;241m=\u001b[39m \u001b[38;5;241m4\u001b[39m\u001b[38;5;241m*\u001b[39m[[\u001b[38;5;241m2\u001b[39m, \u001b[38;5;241m2\u001b[39m]]\n\u001b[0;32m---> 28\u001b[0m \u001b[43mmobie\u001b[49m\u001b[38;5;241;43m.\u001b[39;49m\u001b[43madd_image\u001b[49m\u001b[43m(\u001b[49m\n\u001b[1;32m     29\u001b[0m \u001b[43m    \u001b[49m\u001b[43minput_path\u001b[49m\u001b[38;5;241;43m=\u001b[39;49m\u001b[43minput_file\u001b[49m\u001b[43m,\u001b[49m\u001b[43m \u001b[49m\n\u001b[1;32m     30\u001b[0m \u001b[43m    \u001b[49m\u001b[43minput_key\u001b[49m\u001b[38;5;241;43m=\u001b[39;49m\u001b[38;5;124;43m'\u001b[39;49m\u001b[38;5;124;43m'\u001b[39;49m\u001b[43m,\u001b[49m\u001b[43m  \u001b[49m\u001b[38;5;66;43;03m# the input is a single tif image, so we leave input_key blank\u001b[39;49;00m\n\u001b[1;32m     31\u001b[0m \u001b[43m    \u001b[49m\u001b[43mroot\u001b[49m\u001b[38;5;241;43m=\u001b[39;49m\u001b[43mmobie_project_folder\u001b[49m\u001b[43m,\u001b[49m\n\u001b[1;32m     32\u001b[0m \u001b[43m    \u001b[49m\u001b[43mdataset_name\u001b[49m\u001b[38;5;241;43m=\u001b[39;49m\u001b[43mdataset_name\u001b[49m\u001b[43m,\u001b[49m\n\u001b[1;32m     33\u001b[0m \u001b[43m    \u001b[49m\u001b[43mimage_name\u001b[49m\u001b[38;5;241;43m=\u001b[39;49m\u001b[43mraw_name\u001b[49m\u001b[43m,\u001b[49m\n\u001b[1;32m     34\u001b[0m \u001b[43m    \u001b[49m\u001b[43mmenu_name\u001b[49m\u001b[38;5;241;43m=\u001b[39;49m\u001b[43mmenu_name\u001b[49m\u001b[43m,\u001b[49m\n\u001b[1;32m     35\u001b[0m \u001b[43m    \u001b[49m\u001b[43mresolution\u001b[49m\u001b[38;5;241;43m=\u001b[39;49m\u001b[43mresolution\u001b[49m\u001b[43m,\u001b[49m\n\u001b[1;32m     36\u001b[0m \u001b[43m    \u001b[49m\u001b[43mchunks\u001b[49m\u001b[38;5;241;43m=\u001b[39;49m\u001b[43mchunks\u001b[49m\u001b[43m,\u001b[49m\n\u001b[1;32m     37\u001b[0m \u001b[43m    \u001b[49m\u001b[43mscale_factors\u001b[49m\u001b[38;5;241;43m=\u001b[39;49m\u001b[43mscale_factors\u001b[49m\u001b[43m,\u001b[49m\n\u001b[1;32m     38\u001b[0m \u001b[43m    \u001b[49m\u001b[43mis_default_dataset\u001b[49m\u001b[38;5;241;43m=\u001b[39;49m\u001b[38;5;28;43;01mTrue\u001b[39;49;00m\u001b[43m,\u001b[49m\u001b[43m  \u001b[49m\u001b[38;5;66;43;03m# mark this dataset as the default dataset that will be loaded by mobie\u001b[39;49;00m\n\u001b[1;32m     39\u001b[0m \u001b[43m    \u001b[49m\u001b[43mtarget\u001b[49m\u001b[38;5;241;43m=\u001b[39;49m\u001b[43mtarget\u001b[49m\u001b[43m,\u001b[49m\n\u001b[1;32m     40\u001b[0m \u001b[43m    \u001b[49m\u001b[43mmax_jobs\u001b[49m\u001b[38;5;241;43m=\u001b[39;49m\u001b[43mmax_jobs\u001b[49m\u001b[43m,\u001b[49m\n\u001b[1;32m     41\u001b[0m \u001b[43m    \u001b[49m\u001b[43munit\u001b[49m\u001b[38;5;241;43m=\u001b[39;49m\u001b[43munit\u001b[49m\u001b[43m,\u001b[49m\n\u001b[1;32m     42\u001b[0m \u001b[43m    \u001b[49m\u001b[43mfile_format\u001b[49m\u001b[38;5;241;43m=\u001b[39;49m\u001b[38;5;124;43m\"\u001b[39;49m\u001b[38;5;124;43mome.zarr\u001b[39;49m\u001b[38;5;124;43m\"\u001b[39;49m\n\u001b[1;32m     43\u001b[0m \u001b[43m)\u001b[49m\n",
      "File \u001b[0;32m~/Work/mobie/mobie-utils-python/mobie/image_data.py:238\u001b[0m, in \u001b[0;36madd_image\u001b[0;34m(input_path, input_key, root, dataset_name, image_name, resolution, scale_factors, chunks, file_format, menu_name, tmp_folder, target, max_jobs, view, transformation, unit, is_default_dataset, description, move_only, int_to_uint, channel)\u001b[0m\n\u001b[1;32m    235\u001b[0m         shutil\u001b[38;5;241m.\u001b[39mmove(os\u001b[38;5;241m.\u001b[39mpath\u001b[38;5;241m.\u001b[39msplitext(input_path)[\u001b[38;5;241m0\u001b[39m]\u001b[38;5;241m+\u001b[39m\u001b[38;5;124m\"\u001b[39m\u001b[38;5;124m.xml\u001b[39m\u001b[38;5;124m\"\u001b[39m, image_metadata_path)\n\u001b[1;32m    237\u001b[0m \u001b[38;5;28;01melse\u001b[39;00m:\n\u001b[0;32m--> 238\u001b[0m     \u001b[43mimport_image_data\u001b[49m\u001b[43m(\u001b[49m\u001b[43minput_path\u001b[49m\u001b[43m,\u001b[49m\u001b[43m \u001b[49m\u001b[43minput_key\u001b[49m\u001b[43m,\u001b[49m\u001b[43m \u001b[49m\u001b[43mdata_path\u001b[49m\u001b[43m,\u001b[49m\n\u001b[1;32m    239\u001b[0m \u001b[43m                      \u001b[49m\u001b[43mresolution\u001b[49m\u001b[43m,\u001b[49m\u001b[43m \u001b[49m\u001b[43mscale_factors\u001b[49m\u001b[43m,\u001b[49m\u001b[43m \u001b[49m\u001b[43mchunks\u001b[49m\u001b[43m,\u001b[49m\n\u001b[1;32m    240\u001b[0m \u001b[43m                      \u001b[49m\u001b[43mtmp_folder\u001b[49m\u001b[38;5;241;43m=\u001b[39;49m\u001b[43mtmp_folder\u001b[49m\u001b[43m,\u001b[49m\u001b[43m \u001b[49m\u001b[43mtarget\u001b[49m\u001b[38;5;241;43m=\u001b[39;49m\u001b[43mtarget\u001b[49m\u001b[43m,\u001b[49m\n\u001b[1;32m    241\u001b[0m \u001b[43m                      \u001b[49m\u001b[43mmax_jobs\u001b[49m\u001b[38;5;241;43m=\u001b[39;49m\u001b[43mmax_jobs\u001b[49m\u001b[43m,\u001b[49m\u001b[43m \u001b[49m\u001b[43munit\u001b[49m\u001b[38;5;241;43m=\u001b[39;49m\u001b[43munit\u001b[49m\u001b[43m,\u001b[49m\n\u001b[1;32m    242\u001b[0m \u001b[43m                      \u001b[49m\u001b[43msource_name\u001b[49m\u001b[38;5;241;43m=\u001b[39;49m\u001b[43mimage_name\u001b[49m\u001b[43m,\u001b[49m\n\u001b[1;32m    243\u001b[0m \u001b[43m                      \u001b[49m\u001b[43mfile_format\u001b[49m\u001b[38;5;241;43m=\u001b[39;49m\u001b[43mfile_format\u001b[49m\u001b[43m,\u001b[49m\n\u001b[1;32m    244\u001b[0m \u001b[43m                      \u001b[49m\u001b[43mint_to_uint\u001b[49m\u001b[38;5;241;43m=\u001b[39;49m\u001b[43mint_to_uint\u001b[49m\u001b[43m,\u001b[49m\n\u001b[1;32m    245\u001b[0m \u001b[43m                      \u001b[49m\u001b[43mchannel\u001b[49m\u001b[38;5;241;43m=\u001b[39;49m\u001b[43mchannel\u001b[49m\u001b[43m)\u001b[49m\n\u001b[1;32m    247\u001b[0m metadata\u001b[38;5;241m.\u001b[39madd_source_to_dataset(dataset_folder, \u001b[38;5;124m\"\u001b[39m\u001b[38;5;124mimage\u001b[39m\u001b[38;5;124m\"\u001b[39m, image_name, image_metadata_path,\n\u001b[1;32m    248\u001b[0m                                view\u001b[38;5;241m=\u001b[39mview, description\u001b[38;5;241m=\u001b[39mdescription, channel\u001b[38;5;241m=\u001b[39mchannel)\n\u001b[1;32m    250\u001b[0m \u001b[38;5;28;01mif\u001b[39;00m transformation \u001b[38;5;129;01mis\u001b[39;00m \u001b[38;5;129;01mnot\u001b[39;00m \u001b[38;5;28;01mNone\u001b[39;00m:\n",
      "File \u001b[0;32m~/Work/mobie/mobie-utils-python/mobie/import_data/image.py:35\u001b[0m, in \u001b[0;36mimport_image_data\u001b[0;34m(in_path, in_key, out_path, resolution, scale_factors, chunks, tmp_folder, target, max_jobs, block_shape, unit, source_name, file_format, int_to_uint, channel)\u001b[0m\n\u001b[1;32m     33\u001b[0m \u001b[38;5;28;01mif\u001b[39;00m file_format \u001b[38;5;241m!=\u001b[39m \u001b[38;5;124m\"\u001b[39m\u001b[38;5;124mome.zarr\u001b[39m\u001b[38;5;124m\"\u001b[39m:\n\u001b[1;32m     34\u001b[0m     in_path, in_key \u001b[38;5;241m=\u001b[39m ensure_volume(in_path, in_key, tmp_folder, chunks)\n\u001b[0;32m---> 35\u001b[0m \u001b[43mdownscale\u001b[49m\u001b[43m(\u001b[49m\u001b[43min_path\u001b[49m\u001b[43m,\u001b[49m\u001b[43m \u001b[49m\u001b[43min_key\u001b[49m\u001b[43m,\u001b[49m\u001b[43m \u001b[49m\u001b[43mout_path\u001b[49m\u001b[43m,\u001b[49m\n\u001b[1;32m     36\u001b[0m \u001b[43m          \u001b[49m\u001b[43mresolution\u001b[49m\u001b[43m,\u001b[49m\u001b[43m \u001b[49m\u001b[43mscale_factors\u001b[49m\u001b[43m,\u001b[49m\u001b[43m \u001b[49m\u001b[43mchunks\u001b[49m\u001b[43m,\u001b[49m\n\u001b[1;32m     37\u001b[0m \u001b[43m          \u001b[49m\u001b[43mtmp_folder\u001b[49m\u001b[43m,\u001b[49m\u001b[43m \u001b[49m\u001b[43mtarget\u001b[49m\u001b[43m,\u001b[49m\u001b[43m \u001b[49m\u001b[43mmax_jobs\u001b[49m\u001b[43m,\u001b[49m\u001b[43m \u001b[49m\u001b[43mblock_shape\u001b[49m\u001b[43m,\u001b[49m\n\u001b[1;32m     38\u001b[0m \u001b[43m          \u001b[49m\u001b[43mlibrary\u001b[49m\u001b[38;5;241;43m=\u001b[39;49m\u001b[38;5;124;43m\"\u001b[39;49m\u001b[38;5;124;43mskimage\u001b[39;49m\u001b[38;5;124;43m\"\u001b[39;49m\u001b[43m,\u001b[49m\u001b[43m \u001b[49m\u001b[43munit\u001b[49m\u001b[38;5;241;43m=\u001b[39;49m\u001b[43munit\u001b[49m\u001b[43m,\u001b[49m\u001b[43m \u001b[49m\u001b[43msource_name\u001b[49m\u001b[38;5;241;43m=\u001b[39;49m\u001b[43msource_name\u001b[49m\u001b[43m,\u001b[49m\n\u001b[1;32m     39\u001b[0m \u001b[43m          \u001b[49m\u001b[43mmetadata_format\u001b[49m\u001b[38;5;241;43m=\u001b[39;49m\u001b[43mfile_format\u001b[49m\u001b[43m,\u001b[49m\u001b[43m \u001b[49m\u001b[43mint_to_uint\u001b[49m\u001b[38;5;241;43m=\u001b[39;49m\u001b[43mint_to_uint\u001b[49m\u001b[43m,\u001b[49m\n\u001b[1;32m     40\u001b[0m \u001b[43m          \u001b[49m\u001b[43mchannel\u001b[49m\u001b[38;5;241;43m=\u001b[39;49m\u001b[43mchannel\u001b[49m\u001b[43m)\u001b[49m\n",
      "File \u001b[0;32m~/Work/mobie/mobie-utils-python/mobie/import_data/utils.py:76\u001b[0m, in \u001b[0;36mdownscale\u001b[0;34m(in_path, in_key, out_path, resolution, scale_factors, chunks, tmp_folder, target, max_jobs, block_shape, library, library_kwargs, metadata_format, out_key, unit, source_name, roi_begin, roi_end, int_to_uint, channel)\u001b[0m\n\u001b[1;32m     74\u001b[0m \u001b[38;5;66;03m# ome.zarr can also be written in 2d, all other formats require 3d\u001b[39;00m\n\u001b[1;32m     75\u001b[0m require3d \u001b[38;5;241m=\u001b[39m metadata_format \u001b[38;5;241m!=\u001b[39m \u001b[38;5;124m\"\u001b[39m\u001b[38;5;124mome.zarr\u001b[39m\u001b[38;5;124m\"\u001b[39m\n\u001b[0;32m---> 76\u001b[0m \u001b[43mcheck_input_data\u001b[49m\u001b[43m(\u001b[49m\u001b[43min_path\u001b[49m\u001b[43m,\u001b[49m\u001b[43m \u001b[49m\u001b[43min_key\u001b[49m\u001b[43m,\u001b[49m\u001b[43m \u001b[49m\u001b[43mresolution\u001b[49m\u001b[43m,\u001b[49m\u001b[43m \u001b[49m\u001b[43mrequire3d\u001b[49m\u001b[43m,\u001b[49m\u001b[43m \u001b[49m\u001b[43mchannel\u001b[49m\u001b[43m)\u001b[49m\n\u001b[1;32m     77\u001b[0m write_global_config(config_dir, block_shape\u001b[38;5;241m=\u001b[39mblock_shape, require3d\u001b[38;5;241m=\u001b[39mrequire3d,\n\u001b[1;32m     78\u001b[0m                     roi_begin\u001b[38;5;241m=\u001b[39mroi_begin, roi_end\u001b[38;5;241m=\u001b[39mroi_end)\n\u001b[1;32m     80\u001b[0m configs \u001b[38;5;241m=\u001b[39m DownscalingWorkflow\u001b[38;5;241m.\u001b[39mget_config()\n",
      "File \u001b[0;32m~/Work/mobie/mobie-utils-python/mobie/import_data/utils.py:59\u001b[0m, in \u001b[0;36mcheck_input_data\u001b[0;34m(in_path, in_key, resolution, require3d, channel)\u001b[0m\n\u001b[1;32m     57\u001b[0m     \u001b[38;5;28;01mraise\u001b[39;00m \u001b[38;5;167;01mValueError\u001b[39;00m(\u001b[38;5;124mf\u001b[39m\u001b[38;5;124m\"\u001b[39m\u001b[38;5;124mExpect 3d data, got ndim=\u001b[39m\u001b[38;5;132;01m{\u001b[39;00mndim\u001b[38;5;132;01m}\u001b[39;00m\u001b[38;5;124m\"\u001b[39m)\n\u001b[1;32m     58\u001b[0m \u001b[38;5;28;01mif\u001b[39;00m \u001b[38;5;28mlen\u001b[39m(resolution) \u001b[38;5;241m!=\u001b[39m ndim:\n\u001b[0;32m---> 59\u001b[0m     \u001b[38;5;28;01mraise\u001b[39;00m \u001b[38;5;167;01mValueError\u001b[39;00m(\u001b[38;5;124mf\u001b[39m\u001b[38;5;124m\"\u001b[39m\u001b[38;5;124mExpect same length of resolution as ndim, got: resolution=\u001b[39m\u001b[38;5;132;01m{\u001b[39;00mresolution\u001b[38;5;132;01m}\u001b[39;00m\u001b[38;5;124m, ndim=\u001b[39m\u001b[38;5;132;01m{\u001b[39;00mndim\u001b[38;5;132;01m}\u001b[39;00m\u001b[38;5;124m\"\u001b[39m)\n",
      "\u001b[0;31mValueError\u001b[0m: Expect same length of resolution as ndim, got: resolution=(454, 454), ndim=3"
     ]
    }
   ],
   "source": [
    "input_data_path = \"data\"\n",
    "# The 'default' image for our example dataset is a 2d EM slice showing an overview of the dataset.\n",
    "input_file = os.path.join(input_data_path, \"blobs.ome.tif\")\n",
    "\n",
    "# This is the name that will be given to the image source in mobie.\n",
    "raw_name = \"overview\"\n",
    "# The name of the menu from which the image can be added to the viewer.\n",
    "# Here, we choose \"em\", because this is an EM image slice.\n",
    "menu_name = \"lm\"\n",
    "\n",
    "# We need some metadata to create the n5-file in big-data-viewer format:\n",
    "# - unit: the phyiscal unit of the coordinate system\n",
    "# - resolution: the size of one voxel in the physical unit, this needs to be a tuple/list of length 3,\n",
    "#               specifying the size for each of the 3 spatial dimensions\n",
    "# - chunks: the size of the chunks (in voxels) that are used to store the output file.\n",
    "#           good choices are usually (1, 512, 512) for 2d data and (64, 64, 64) for 3d data\n",
    "# - scale_factors: the scale factors used for downsampling the input when creating the image pyramid\n",
    "#                  this needs to be a list, where each entry specifies the scale factors for the 3 axes.\n",
    "# Note that axes are listed in the order ZYX for the resolution, chunks and scale factors\n",
    "# (in the java implementation of mobie / big-data-viewer the axis convention is XYZ).\n",
    "# Also note that the values for all three axes (ZYX) need to be specified. In the case of 2d data, the value\n",
    "# for Z should be set to 1.\n",
    "unit = \"nanometer\"\n",
    "resolution = (454, 454)\n",
    "chunks = (64, 64)\n",
    "scale_factors = 4*[[2, 2]]\n",
    "\n",
    "mobie.add_image(\n",
    "    input_path=input_file, \n",
    "    input_key='',  # the input is a single tif image, so we leave input_key blank\n",
    "    root=mobie_project_folder,\n",
    "    dataset_name=dataset_name,\n",
    "    image_name=raw_name,\n",
    "    menu_name=menu_name,\n",
    "    resolution=resolution,\n",
    "    chunks=chunks,\n",
    "    scale_factors=scale_factors,\n",
    "    is_default_dataset=True,  # mark this dataset as the default dataset that will be loaded by mobie\n",
    "    target=target,\n",
    "    max_jobs=max_jobs,\n",
    "    unit=unit,\n",
    "    file_format=\"ome.zarr\"\n",
    ")"
   ]
  },
  {
   "cell_type": "code",
   "execution_count": null,
   "metadata": {},
   "outputs": [],
   "source": [
    "meta = mobie.metadata.read_dataset_metadata(dataset_folder)"
   ]
  },
  {
   "cell_type": "code",
   "execution_count": null,
   "metadata": {},
   "outputs": [],
   "source": [
    "meta[\"is2D\"]"
   ]
  },
  {
   "cell_type": "code",
   "execution_count": null,
   "metadata": {},
   "outputs": [],
   "source": [
    "meta[\"is2D\"] = True\n",
    "mobie.metadata.write_dataset_metadata(dataset_folder, meta)"
   ]
  }
 ],
 "metadata": {
  "kernelspec": {
   "display_name": "Python 3 (ipykernel)",
   "language": "python",
   "name": "python3"
  },
  "language_info": {
   "codemirror_mode": {
    "name": "ipython",
    "version": 3
   },
   "file_extension": ".py",
   "mimetype": "text/x-python",
   "name": "python",
   "nbconvert_exporter": "python",
   "pygments_lexer": "ipython3",
   "version": "3.9.9"
  },
  "vscode": {
   "interpreter": {
    "hash": "fb186d2f309bc00557b4f8909d5e887a9afffb683d5e77157fbe4b0332985f5b"
   }
  }
 },
 "nbformat": 4,
 "nbformat_minor": 2
}
